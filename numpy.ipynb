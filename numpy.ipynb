{
 "cells": [
  {
   "cell_type": "code",
   "execution_count": 4,
   "metadata": {},
   "outputs": [
    {
     "name": "stdout",
     "output_type": "stream",
     "text": [
      "[3.45045209 3.9468081  3.16627669 2.56627632 5.75271261]\n",
      "[[[0.56777598 0.06983229 0.00451937 0.25771623 0.50244994]\n",
      "  [0.55912526 0.70809321 0.59611504 0.19231702 0.38780594]\n",
      "  [0.00686733 0.53591249 0.08732538 0.25120882 0.54851392]\n",
      "  [0.11670389 0.5271179  0.35244878 0.7834458  0.43192141]\n",
      "  [0.2523245  0.8044261  0.60245067 0.21672582 0.1186636 ]]\n",
      "\n",
      " [[0.54376222 0.34419641 0.13851693 0.33038894 0.50526064]\n",
      "  [0.75073813 0.59410558 0.3412712  0.18344624 0.16979915]\n",
      "  [0.5799324  0.43697315 0.8144377  0.35348756 0.92242333]\n",
      "  [0.44394736 0.07323044 0.69306145 0.42744715 0.794756  ]\n",
      "  [0.16233015 0.6890348  0.60682475 0.49323228 0.65866588]]\n",
      "\n",
      " [[0.82152735 0.33794817 0.98966167 0.83314303 0.37794175]\n",
      "  [0.04586545 0.11751983 0.98126283 0.45344843 0.77105696]\n",
      "  [0.55307721 0.92093994 0.49151993 0.36535686 0.81834364]\n",
      "  [0.96803494 0.17421443 0.16016131 0.95354915 0.38045792]\n",
      "  [0.36048228 0.53983196 0.13415428 0.22785059 0.99144709]]\n",
      "\n",
      " [[0.07076165 0.89190453 0.15829746 0.02153036 0.15772638]\n",
      "  [0.50579428 0.38802116 0.39332327 0.69085168 0.11219156]\n",
      "  [0.40755221 0.35646493 0.10744924 0.57845474 0.63738208]\n",
      "  [0.83487504 0.74759948 0.31974789 0.26231367 0.80954041]\n",
      "  [0.66661526 0.14508062 0.79007934 0.18644146 0.33105683]]\n",
      "\n",
      " [[0.13910874 0.48565985 0.33010108 0.52809988 0.13898596]\n",
      "  [0.5110916  0.78156258 0.03941087 0.66988316 0.99721779]\n",
      "  [0.57994829 0.38164798 0.24500974 0.92619404 0.23769818]\n",
      "  [0.76515514 0.66109319 0.43886363 0.26453393 0.44729774]\n",
      "  [0.12173923 0.75510225 0.6779496  0.18006117 0.76414486]]]\n"
     ]
    }
   ],
   "source": [
    "import numpy as np\n",
    "\n",
    "rand_mat = np.random.rand(5)\n",
    "print(rand_mat * 10)\n",
    "\n",
    "\n",
    "rand_mat2 = np.random.rand(5, 5)\n",
    "print(rand_mat2)\n"
   ]
  },
  {
   "cell_type": "code",
   "execution_count": 5,
   "metadata": {},
   "outputs": [
    {
     "name": "stdout",
     "output_type": "stream",
     "text": [
      "Mean: 0.46352391627248146\n",
      "Standar Deviarion: 0.2714266279988567\n"
     ]
    }
   ],
   "source": [
    "print(\"Mean:\", np.mean(rand_mat2))\n",
    "print(\"Standar Deviarion:\", np.std(rand_mat2))\n"
   ]
  },
  {
   "cell_type": "code",
   "execution_count": 8,
   "metadata": {},
   "outputs": [
    {
     "data": {
      "text/plain": [
       "array([4, 3, 5, 3, 5, 2, 4, 1, 5, 4])"
      ]
     },
     "execution_count": 8,
     "metadata": {},
     "output_type": "execute_result"
    }
   ],
   "source": [
    "rand_mat3 = np.random.randint(1, 6, 10)\n",
    "rand_mat3\n"
   ]
  },
  {
   "cell_type": "code",
   "execution_count": 10,
   "metadata": {},
   "outputs": [
    {
     "data": {
      "text/plain": [
       "array([[3, 4, 2],\n",
       "       [5, 4, 1],\n",
       "       [4, 4, 5]])"
      ]
     },
     "execution_count": 10,
     "metadata": {},
     "output_type": "execute_result"
    }
   ],
   "source": [
    "rand_mat3 = np.random.randint(1, 6, [3, 3])\n",
    "rand_mat3\n"
   ]
  },
  {
   "cell_type": "code",
   "execution_count": 11,
   "metadata": {},
   "outputs": [
    {
     "name": "stdout",
     "output_type": "stream",
     "text": [
      "4.691687237376312\n"
     ]
    }
   ],
   "source": [
    "rand_mat = np.random.rand()\n",
    "print(rand_mat * 10)\n"
   ]
  },
  {
   "cell_type": "code",
   "execution_count": 19,
   "metadata": {},
   "outputs": [
    {
     "name": "stdout",
     "output_type": "stream",
     "text": [
      "[ 1  2  3  4  5  6  7  8  9 10]\n",
      "len(nums): 10\n",
      "nums[:] [ 1  2  3  4  5  6  7  8  9 10]\n",
      "nums[0:5] [1 2 3 4 5]\n",
      "nums[5:10] [ 6  7  8  9 10]\n",
      "nums[5:9] [6 7 8 9]\n",
      "nums[5:11] [ 6  7  8  9 10]\n"
     ]
    }
   ],
   "source": [
    "nums = np.arange(1, 11)\n",
    "print(nums)\n",
    "print(\"len(nums):\", len(nums))\n",
    "print(\"nums[:]\", nums[:])\n",
    "print(\"nums[0:5]\", nums[0:5])\n",
    "print(\"nums[5:10]\", nums[5:10])\n",
    "print(\"nums[5:9]\", nums[5:9])\n",
    "print(\"nums[5:11]\", nums[5:11])\n"
   ]
  },
  {
   "cell_type": "code",
   "execution_count": 60,
   "metadata": {},
   "outputs": [
    {
     "name": "stdout",
     "output_type": "stream",
     "text": [
      "[ 1  2  3  4  5  6  7  8  9 10]\n",
      "len(nums): 10\n",
      "nums[[0,2,4,6,8]] = [1 3 5 7 9]\n",
      "nums[[1,3,5,7,9]] = [ 2  4  6  8 10]\n",
      "nums[:] = [ 1  2  3  4  5  6  7  8  9 10]\n",
      "nums[0:5] = [1 2 3 4 5]\n",
      "nums[5:10] = [ 6  7  8  9 10]\n",
      "nums[5:9] = [6 7 8 9]\n",
      "nums[5:11] = [ 6  7  8  9 10]\n"
     ]
    }
   ],
   "source": [
    "nums = np.arange(1, 11)\n",
    "print(nums)\n",
    "print(\"len(nums):\", len(nums))\n",
    "print(\"nums[[0,2,4,6,8]] =\", nums[[0,2,4,6,8]])\n",
    "print(\"nums[[1,3,5,7,9]] =\", nums[[1,3,5,7,9]])\n",
    "print(\"nums[:] =\", nums[:])\n",
    "print(\"nums[0:5] =\", nums[0:5])\n",
    "print(\"nums[5:10] =\", nums[5:10])\n",
    "print(\"nums[5:9] =\", nums[5:9])\n",
    "print(\"nums[5:11] =\", nums[5:11])"
   ]
  },
  {
   "cell_type": "code",
   "execution_count": 70,
   "metadata": {},
   "outputs": [
    {
     "name": "stdout",
     "output_type": "stream",
     "text": [
      "[ 1  2  3  4  5  6  7  8  9 10]\n",
      "[1 3 5 7 9]\n",
      "[ True False  True False  True False  True False  True False]\n",
      "[ 2  4  6  8 10]\n",
      "[ 5  6  7  8  9 10]\n",
      "[1 2 3 4 5]\n"
     ]
    }
   ],
   "source": [
    "nums = np.arange(1, 11)\n",
    "print(nums)\n",
    "print(nums[nums%2!=0])\n",
    "print(nums%2!=0)\n",
    "print(nums[nums%2==0])\n",
    "print(nums[nums>=5])\n",
    "print(nums[nums<=5])\n"
   ]
  },
  {
   "cell_type": "code",
   "execution_count": 71,
   "metadata": {},
   "outputs": [
    {
     "name": "stdout",
     "output_type": "stream",
     "text": [
      "[[ 1  2  3  4  5  6  7  8  9 10]\n",
      " [11 12 13 14 15 16 17 18 19 20]\n",
      " [21 22 23 24 25 26 27 28 29 30]]\n",
      "[ 1 11 21]\n",
      "[ 1  2  3  4  5  6  7  8  9 10]\n",
      "11\n",
      "[ 1 11]\n",
      "[ 1 11 21]\n",
      "\n",
      "10\n",
      "5\n",
      "[[ 1  2  3  4  5]\n",
      " [11 12 13 14 15]\n",
      " [21 22 23 24 25]]\n",
      "[[ 1  2  3  4  5]\n",
      " [11 12 13 14 15]\n",
      " [21 22 23 24 25]]\n"
     ]
    }
   ],
   "source": [
    "nums = np.arange(1, 31).reshape(3,10)\n",
    "print(nums)\n",
    "print(nums[:,0])\n",
    "print(nums[:][0])\n",
    "print(nums[1,0])\n",
    "print(nums[0:2,0])\n",
    "print(nums[0:3,0])\n",
    "print()\n",
    "print(len(nums[0]))\n",
    "print(int(len(nums[0])/2))\n",
    "halfArray = int((len(nums[0]))/2)\n",
    "print(nums[0:halfArray,0:halfArray])\n",
    "print(nums[0:5,0:5])"
   ]
  },
  {
   "cell_type": "code",
   "execution_count": 72,
   "metadata": {},
   "outputs": [
    {
     "name": "stdout",
     "output_type": "stream",
     "text": [
      "[12]\n"
     ]
    }
   ],
   "source": [
    "test_array = [10, 11.5, 12, 13.5, 14,15]   \n",
    "print(test_array[2:3])"
   ]
  }
 ],
 "metadata": {
  "kernelspec": {
   "display_name": "materMlTexas",
   "language": "python",
   "name": "python3"
  },
  "language_info": {
   "codemirror_mode": {
    "name": "ipython",
    "version": 3
   },
   "file_extension": ".py",
   "mimetype": "text/x-python",
   "name": "python",
   "nbconvert_exporter": "python",
   "pygments_lexer": "ipython3",
   "version": "3.11.0"
  },
  "orig_nbformat": 4
 },
 "nbformat": 4,
 "nbformat_minor": 2
}
