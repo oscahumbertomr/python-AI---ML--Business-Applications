{
 "cells": [
  {
   "cell_type": "code",
   "execution_count": 1,
   "metadata": {},
   "outputs": [
    {
     "name": "stdout",
     "output_type": "stream",
     "text": [
      "[6.80860637 8.66907573 5.51849316 4.99807442 6.82789124]\n",
      "[[0.24521439 0.5217387  0.76595032 0.722481   0.88014596]\n",
      " [0.25659035 0.73172088 0.57727543 0.86545295 0.46024244]\n",
      " [0.74741878 0.44638983 0.36570349 0.29050535 0.01127406]\n",
      " [0.26363369 0.73610365 0.46953738 0.37137125 0.35645196]\n",
      " [0.41462003 0.26597612 0.61486276 0.09802207 0.8392823 ]]\n"
     ]
    }
   ],
   "source": [
    "import numpy as np\n",
    "\n",
    "rand_mat = np.random.rand(5)\n",
    "print(rand_mat * 10)\n",
    "\n",
    "\n",
    "rand_mat2 = np.random.rand(5, 5)\n",
    "print(rand_mat2)\n"
   ]
  },
  {
   "cell_type": "code",
   "execution_count": 2,
   "metadata": {},
   "outputs": [
    {
     "name": "stdout",
     "output_type": "stream",
     "text": [
      "Mean: 0.49271860545354756\n",
      "Standar Deviarion: 0.24077883023828864\n"
     ]
    }
   ],
   "source": [
    "print(\"Mean:\", np.mean(rand_mat2))\n",
    "print(\"Standar Deviarion:\", np.std(rand_mat2))\n"
   ]
  },
  {
   "cell_type": "code",
   "execution_count": 3,
   "metadata": {},
   "outputs": [
    {
     "data": {
      "text/plain": [
       "array([4, 5, 4, 4, 4, 2, 3, 1, 5, 3])"
      ]
     },
     "execution_count": 3,
     "metadata": {},
     "output_type": "execute_result"
    }
   ],
   "source": [
    "rand_mat3 = np.random.randint(1, 6, 10)\n",
    "rand_mat3\n"
   ]
  },
  {
   "cell_type": "code",
   "execution_count": 4,
   "metadata": {},
   "outputs": [
    {
     "data": {
      "text/plain": [
       "array([[5, 1, 4],\n",
       "       [1, 4, 1],\n",
       "       [5, 4, 1]])"
      ]
     },
     "execution_count": 4,
     "metadata": {},
     "output_type": "execute_result"
    }
   ],
   "source": [
    "rand_mat3 = np.random.randint(1, 6, [3, 3])\n",
    "rand_mat3\n"
   ]
  },
  {
   "cell_type": "code",
   "execution_count": 5,
   "metadata": {},
   "outputs": [
    {
     "name": "stdout",
     "output_type": "stream",
     "text": [
      "9.073225357787358\n"
     ]
    }
   ],
   "source": [
    "rand_mat = np.random.rand()\n",
    "print(rand_mat * 10)\n"
   ]
  },
  {
   "cell_type": "code",
   "execution_count": 6,
   "metadata": {},
   "outputs": [
    {
     "name": "stdout",
     "output_type": "stream",
     "text": [
      "[ 1  2  3  4  5  6  7  8  9 10]\n",
      "len(nums): 10\n",
      "nums[:] [ 1  2  3  4  5  6  7  8  9 10]\n",
      "nums[0:5] [1 2 3 4 5]\n",
      "nums[5:10] [ 6  7  8  9 10]\n",
      "nums[5:9] [6 7 8 9]\n",
      "nums[5:11] [ 6  7  8  9 10]\n"
     ]
    }
   ],
   "source": [
    "nums = np.arange(1, 11)\n",
    "print(nums)\n",
    "print(\"len(nums):\", len(nums))\n",
    "print(\"nums[:]\", nums[:])\n",
    "print(\"nums[0:5]\", nums[0:5])\n",
    "print(\"nums[5:10]\", nums[5:10])\n",
    "print(\"nums[5:9]\", nums[5:9])\n",
    "print(\"nums[5:11]\", nums[5:11])\n"
   ]
  },
  {
   "cell_type": "code",
   "execution_count": 7,
   "metadata": {},
   "outputs": [
    {
     "name": "stdout",
     "output_type": "stream",
     "text": [
      "[ 1  2  3  4  5  6  7  8  9 10]\n",
      "len(nums): 10\n",
      "nums[[0,2,4,6,8]] = [1 3 5 7 9]\n",
      "nums[[1,3,5,7,9]] = [ 2  4  6  8 10]\n",
      "nums[:] = [ 1  2  3  4  5  6  7  8  9 10]\n",
      "nums[0:5] = [1 2 3 4 5]\n",
      "nums[5:10] = [ 6  7  8  9 10]\n",
      "nums[5:9] = [6 7 8 9]\n",
      "nums[5:11] = [ 6  7  8  9 10]\n"
     ]
    }
   ],
   "source": [
    "nums = np.arange(1, 11)\n",
    "print(nums)\n",
    "print(\"len(nums):\", len(nums))\n",
    "print(\"nums[[0,2,4,6,8]] =\", nums[[0, 2, 4, 6, 8]])\n",
    "print(\"nums[[1,3,5,7,9]] =\", nums[[1, 3, 5, 7, 9]])\n",
    "print(\"nums[:] =\", nums[:])\n",
    "print(\"nums[0:5] =\", nums[0:5])\n",
    "print(\"nums[5:10] =\", nums[5:10])\n",
    "print(\"nums[5:9] =\", nums[5:9])\n",
    "print(\"nums[5:11] =\", nums[5:11])\n"
   ]
  },
  {
   "cell_type": "code",
   "execution_count": 8,
   "metadata": {},
   "outputs": [
    {
     "name": "stdout",
     "output_type": "stream",
     "text": [
      "[ 1  2  3  4  5  6  7  8  9 10]\n",
      "[1 3 5 7 9]\n",
      "[ True False  True False  True False  True False  True False]\n",
      "[ 2  4  6  8 10]\n",
      "[ 5  6  7  8  9 10]\n",
      "[1 2 3 4 5]\n"
     ]
    }
   ],
   "source": [
    "nums = np.arange(1, 11)\n",
    "print(nums)\n",
    "print(nums[nums % 2 != 0])\n",
    "print(nums % 2 != 0)\n",
    "print(nums[nums % 2 == 0])\n",
    "print(nums[nums >= 5])\n",
    "print(nums[nums <= 5])\n"
   ]
  },
  {
   "cell_type": "code",
   "execution_count": 9,
   "metadata": {},
   "outputs": [
    {
     "name": "stdout",
     "output_type": "stream",
     "text": [
      "[[ 1  2  3  4  5  6  7  8  9 10]\n",
      " [11 12 13 14 15 16 17 18 19 20]\n",
      " [21 22 23 24 25 26 27 28 29 30]]\n",
      "[ 1 11 21]\n",
      "[ 1  2  3  4  5  6  7  8  9 10]\n",
      "11\n",
      "[ 1 11]\n",
      "[ 1 11 21]\n",
      "\n",
      "10\n",
      "5\n",
      "[[ 1  2  3  4  5]\n",
      " [11 12 13 14 15]\n",
      " [21 22 23 24 25]]\n",
      "[[ 1  2  3  4  5]\n",
      " [11 12 13 14 15]\n",
      " [21 22 23 24 25]]\n"
     ]
    }
   ],
   "source": [
    "nums = np.arange(1, 31).reshape(3, 10)\n",
    "print(nums)\n",
    "print(nums[:, 0])\n",
    "print(nums[:][0])\n",
    "print(nums[1, 0])\n",
    "print(nums[0:2, 0])\n",
    "print(nums[0:3, 0])\n",
    "print()\n",
    "print(len(nums[0]))\n",
    "print(int(len(nums[0]) / 2))\n",
    "halfArray = int((len(nums[0])) / 2)\n",
    "print(nums[0:halfArray, 0:halfArray])\n",
    "print(nums[0:5, 0:5])\n"
   ]
  },
  {
   "cell_type": "code",
   "execution_count": 10,
   "metadata": {},
   "outputs": [
    {
     "name": "stdout",
     "output_type": "stream",
     "text": [
      "[12]\n"
     ]
    }
   ],
   "source": [
    "test_array = [10, 11.5, 12, 13.5, 14, 15]\n",
    "print(test_array[2:3])\n"
   ]
  },
  {
   "cell_type": "code",
   "execution_count": 11,
   "metadata": {},
   "outputs": [
    {
     "name": "stdout",
     "output_type": "stream",
     "text": [
      "[ 100 1105  172  500  500  500]\n",
      "[ 100 1105  172  500  500  500]\n"
     ]
    }
   ],
   "source": [
    "test_array = np.array([100, 1105, 172, 135, 147, 153])\n",
    "test_array[3:] = 500\n",
    "print(test_array)\n",
    "\n",
    "np.save(\"testNumpySave.csv\", test_array)\n",
    "loadedArray = np.load(\"testNumpySave.csv.npy\")\n",
    "print(loadedArray)\n"
   ]
  },
  {
   "cell_type": "code",
   "execution_count": null,
   "metadata": {},
   "outputs": [],
   "source": []
  }
 ],
 "metadata": {
  "kernelspec": {
   "display_name": "materMlTexas",
   "language": "python",
   "name": "python3"
  },
  "language_info": {
   "codemirror_mode": {
    "name": "ipython",
    "version": 3
   },
   "file_extension": ".py",
   "mimetype": "text/x-python",
   "name": "python",
   "nbconvert_exporter": "python",
   "pygments_lexer": "ipython3",
   "version": "3.11.0"
  },
  "orig_nbformat": 4
 },
 "nbformat": 4,
 "nbformat_minor": 2
}
